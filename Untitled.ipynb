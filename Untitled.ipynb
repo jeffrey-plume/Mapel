{
 "cells": [
  {
   "cell_type": "code",
   "execution_count": 4,
   "id": "9a113ed1-0332-4ecc-848b-eedfd9232592",
   "metadata": {
    "scrolled": true
   },
   "outputs": [],
   "source": [
    "import os\n",
    "\n",
    "# Define the root directory and list all files\n",
    "root = 'C:/Users/Lenovo/OneDrive/Documents/GitHub/Synthetic Images/emps-main/images/'\n",
    "files = {root + x:root + x for x in os.listdir(root) if os.path.isfile(root + x)}  # Ensure only files are included\n"
   ]
  },
  {
   "cell_type": "code",
   "execution_count": 1,
   "id": "e8d6cc55-dd2e-4da9-aa97-e7807497ade6",
   "metadata": {},
   "outputs": [
    {
     "name": "stderr",
     "output_type": "stream",
     "text": [
      "C:\\Users\\Lenovo\\anaconda3\\envs\\deep_learning\\lib\\site-packages\\cellpose\\resnet_torch.py:276: FutureWarning: You are using `torch.load` with `weights_only=False` (the current default value), which uses the default pickle module implicitly. It is possible to construct malicious pickle data which will execute arbitrary code during unpickling (See https://github.com/pytorch/pytorch/blob/main/SECURITY.md#untrusted-models for more details). In a future release, the default value for `weights_only` will be flipped to `True`. This limits the functions that could be executed during unpickling. Arbitrary objects will no longer be allowed to be loaded via this mode unless they are explicitly allowlisted by the user via `torch.serialization.add_safe_globals`. We recommend you start setting `weights_only=True` for any use case where you don't have full control of the loaded file. Please open an issue on GitHub for any issues related to this experimental feature.\n",
      "  state_dict = torch.load(filename, map_location=device)\n",
      "C:\\Users\\Lenovo\\anaconda3\\envs\\deep_learning\\lib\\site-packages\\cellpose\\resnet_torch.py:280: FutureWarning: You are using `torch.load` with `weights_only=False` (the current default value), which uses the default pickle module implicitly. It is possible to construct malicious pickle data which will execute arbitrary code during unpickling (See https://github.com/pytorch/pytorch/blob/main/SECURITY.md#untrusted-models for more details). In a future release, the default value for `weights_only` will be flipped to `True`. This limits the functions that could be executed during unpickling. Arbitrary objects will no longer be allowed to be loaded via this mode unless they are explicitly allowlisted by the user via `torch.serialization.add_safe_globals`. We recommend you start setting `weights_only=True` for any use case where you don't have full control of the loaded file. Please open an issue on GitHub for any issues related to this experimental feature.\n",
      "  state_dict = torch.load(filename, map_location=torch.device(\"cpu\"))\n"
     ]
    },
    {
     "ename": "SystemExit",
     "evalue": "0",
     "output_type": "error",
     "traceback": [
      "An exception has occurred, use %tb to see the full traceback.\n",
      "\u001b[1;31mSystemExit\u001b[0m\u001b[1;31m:\u001b[0m 0\n"
     ]
    },
    {
     "name": "stderr",
     "output_type": "stream",
     "text": [
      "C:\\Users\\Lenovo\\anaconda3\\envs\\deep_learning\\lib\\site-packages\\IPython\\core\\interactiveshell.py:3558: UserWarning: To exit: use 'exit', 'quit', or Ctrl-D.\n",
      "  warn(\"To exit: use 'exit', 'quit', or Ctrl-D.\", stacklevel=1)\n"
     ]
    }
   ],
   "source": [
    "from PyQt5.QtWidgets import QMessageBox, QApplication\n",
    "from matplotlib.figure import Figure\n",
    "from matplotlib.backends.backend_qt5agg import FigureCanvasQTAgg as FigureCanvas\n",
    "from cellpose import io, models, plot\n",
    "import os\n",
    "from dialogs.ImageViewer import ImageViewer\n",
    "\n",
    "from PyQt5.QtWidgets import QMessageBox, QApplication\n",
    "from matplotlib.figure import Figure\n",
    "from matplotlib.backends.backend_qt5agg import FigureCanvasQTAgg as FigureCanvas\n",
    "from cellpose import io, models, plot\n",
    "import os\n",
    "import sys\n",
    "from PyQt5.QtWidgets import (\n",
    "    QApplication, QMainWindow, QVBoxLayout, QHBoxLayout, QPushButton, QWidget,\n",
    "    QLabel, QLineEdit, QComboBox, QMessageBox, QFileDialog, QProgressBar\n",
    ")\n",
    "from PyQt5.QtCore import Qt\n",
    "from matplotlib.figure import Figure\n",
    "from matplotlib.backends.backend_qt5agg import FigureCanvasQTAgg as FigureCanvas\n",
    "from cellpose import io\n",
    "import os\n",
    "\n",
    "\n",
    "class ImageViewer(QMainWindow):\n",
    "    def __init__(self, image_paths=None, index=0):\n",
    "        super().__init__()\n",
    "        self.image_paths = image_paths #if image_paths else []\n",
    "        self.current_index = index\n",
    "\n",
    "        # Initialize UI\n",
    "        self.setWindowTitle(\"Image Viewer\")\n",
    "        self.resize(600, 450)\n",
    "\n",
    "        # Image display\n",
    "        self.figure = Figure()\n",
    "        self.canvas = FigureCanvas(self.figure)\n",
    "\n",
    "\n",
    "\n",
    "        # Main layout\n",
    "        central_widget = QWidget()\n",
    "        self.setCentralWidget(central_widget)\n",
    "        main_layout = QVBoxLayout(central_widget)\n",
    "        main_layout.addWidget(self.canvas, alignment=Qt.AlignCenter)\n",
    "      #  main_layout.addLayout(controls_layout)\n",
    "\n",
    "        # Display the first image if available\n",
    "        if self.image_paths:\n",
    "            self.update_image()\n",
    "\n",
    "    def set_current_index(self, index):\n",
    "        \"\"\"Slot to update the current index and refresh the image.\"\"\"\n",
    "        if 0 <= index < len(self.image_paths):\n",
    "            self.current_index = index\n",
    "            self.update_image()\n",
    "        else:\n",
    "            QMessageBox.warning(self, \"Invalid Index\", \"Index out of range.\")\n",
    "\n",
    "    def update_image(self):\n",
    "        \"\"\"Display the current image.\"\"\"\n",
    "        if not self.image_paths:\n",
    "            QMessageBox.information(self, \"No Images\", \"No images to display.\")\n",
    "            return\n",
    "    \n",
    "        # Get the current filename and check if it exists in the dictionary\n",
    "        filenames = list(self.image_paths.keys())\n",
    "        if self.current_index < 0 or self.current_index >= len(filenames):\n",
    "            QMessageBox.information(self, \"No Images\", \"Invalid image index.\")\n",
    "            return\n",
    "    \n",
    "        current_filename = filenames[self.current_index]\n",
    "    \n",
    "        # Load the image if not already loaded\n",
    "        if self.image_paths[current_filename] is None:\n",
    "            try:\n",
    "                self.image_paths[current_filename] = self.read_image(current_filename)\n",
    "            except Exception as e:\n",
    "                QMessageBox.critical(self, \"Error\", f\"Failed to load image '{current_filename}': {e}\")\n",
    "                return\n",
    "\n",
    "        return self.image_paths[current_filename]\n",
    "    \n",
    "    def display_image(self, title=\"Image\"):\n",
    "        \"\"\"Display the provided image.\"\"\"\n",
    "\n",
    "        img = self.update_image()\n",
    "        \n",
    "        if img is None:\n",
    "            filenames = list(self.image_paths.keys())\n",
    "            if self.current_index < 0 or self.current_index >= len(filenames):\n",
    "                QMessageBox.information(self, \"No Images\", \"Invalid image index.\")\n",
    "                return\n",
    "            img = self.load_image(filenames[self.current_index])\n",
    "\n",
    "        if img is not None:\n",
    "            self.setWindowTitle(title)\n",
    "            self.figure.clear()\n",
    "            ax = self.figure.add_subplot(111)\n",
    "            ax.imshow(img, cmap='gray')\n",
    "            ax.axis(\"off\")\n",
    "            self.canvas.draw()\n",
    "        else:\n",
    "            QMessageBox.warning(self, \"Display Error\", \"The image could not be displayed.\")\n",
    "\n",
    "\n",
    "    def read_image(self, image_path):\n",
    "        \"\"\"Read and validate an image.\"\"\"\n",
    "        try:\n",
    "            return io.imread(image_path)\n",
    "        except Exception as e:\n",
    "            QMessageBox.critical(self, \"Error\", f\"Failed to load image: {e}\")\n",
    "            return None\n",
    "\n",
    "class CellposeAnalyzer(ImageViewer):\n",
    "    def __init__(self, image_paths=None, index=0, model_type=\"cyto\", diameter=25, gpu=True):\n",
    "        \"\"\"\n",
    "        Subclass of ImageViewer that integrates Cellpose analysis.\n",
    "        \"\"\"\n",
    "        # Initialize the parent class (ImageViewer)\n",
    "        super().__init__(image_paths=image_paths, index=index)\n",
    "\n",
    "        # Additional attributes specific to CellposeAnalyzer\n",
    "        self.model_type = model_type\n",
    "        self.diameter = diameter\n",
    "        self.gpu = gpu\n",
    "        self.segmented_images = {}\n",
    "\n",
    "        # Initialize the Cellpose model\n",
    "        self.model = models.CellposeModel(model_type=model_type, gpu=gpu)\n",
    "\n",
    "        # Process and display the current image\n",
    "        self.process_and_display()\n",
    "\n",
    "    def process_and_display(self):\n",
    "        \"\"\"Process the current image using Cellpose and display the segmentation result.\"\"\"\n",
    "        if not self.image_paths:\n",
    "            QMessageBox.information(self, \"No Images\", \"No images to process.\")\n",
    "            return\n",
    "\n",
    "        filenames = list(self.image_paths.keys())\n",
    "        current_filename = filenames[self.current_index]\n",
    "\n",
    "        # Load the image if not already loaded\n",
    "        if self.image_paths[current_filename] is None:\n",
    "            try:\n",
    "                img = io.imread(current_filename)\n",
    "                self.image_paths[current_filename] = img\n",
    "            except Exception as e:\n",
    "                QMessageBox.critical(self, \"Error\", f\"Failed to load image: {e}\")\n",
    "                return\n",
    "\n",
    "        # Process the image using Cellpose\n",
    "        img = self.image_paths[current_filename]\n",
    "        try:\n",
    "            masks, flows, styles = models.CellposeModel(model_type='cyto3').eval(img,\n",
    "                            diameter=25, channels=[1,2])\n",
    "            mask_RGB = plot.mask_overlay(img, masks)\n",
    "            self.image_paths[current_filename] = mask_RGB\n",
    "        except Exception as e:\n",
    "            QMessageBox.critical(self, \"Error\", f\"Failed to process image: {e}\")\n",
    "            return\n",
    "\n",
    "        # Display the segmented image\n",
    "        self.display_image(title=\"Segmented Image\")\n",
    "\n",
    "\n",
    "\n",
    "if __name__ == \"__main__\":\n",
    "    app = QApplication(sys.argv)\n",
    "\n",
    "    # Define the root directory and list all files\n",
    "    root = 'C:/Users/Lenovo/OneDrive/Documents/GitHub/Synthetic Images/emps-main/images/'\n",
    "    files = {root + x: None for x in os.listdir(root) if os.path.isfile(root + x)}\n",
    "\n",
    "    # Instantiate the CellposeAnalyzer with the files\n",
    "    analyzer = CellposeAnalyzer(image_paths=files)\n",
    "\n",
    "    # Show the viewer\n",
    "    analyzer.show()\n",
    "    sys.exit(app.exec_())\n"
   ]
  },
  {
   "cell_type": "code",
   "execution_count": 1,
   "id": "8706cbc6-5b8e-42f2-9629-49a829051f9b",
   "metadata": {},
   "outputs": [
    {
     "name": "stdout",
     "output_type": "stream",
     "text": [
      "{\"timestamp\": \"2024-12-28 18:44:58\", \"username\": \"UnknownUser\", \"logger_name\": \"__main__\", \"log_level\": \"INFO\", \"message\": \"Running in standard mode\"}\n",
      "{\"timestamp\": \"2024-12-28 18:44:58\", \"username\": \"UnknownUser\", \"logger_name\": \"__main__\", \"log_level\": \"INFO\", \"message\": \"Starting the application.\"}\n",
      "{\"timestamp\": \"2024-12-28 18:44:58\", \"username\": \"UnknownUser\", \"logger_name\": \"__main__\", \"log_level\": \"INFO\", \"message\": \"Connected to database at user_credentials.db\"}\n",
      "{\"timestamp\": \"2024-12-28 18:44:58\", \"username\": \"UnknownUser\", \"logger_name\": \"__main__\", \"log_level\": \"INFO\", \"message\": \"Services initialized successfully.\"}\n",
      "{\"timestamp\": \"2024-12-28 18:45:01\", \"username\": \"UnknownUser\", \"logger_name\": \"__main__\", \"log_level\": \"ERROR\", \"message\": \"An unexpected error occurred: 'MainWindow' object has no attribute 'view_study_audit_trail'\"}\n",
      "{\"timestamp\": \"2024-12-28 18:45:01\", \"username\": \"UnknownUser\", \"logger_name\": \"__main__\", \"log_level\": \"DEBUG\", \"message\": \"Traceback (most recent call last):\\n  File \\\"C:\\\\Users\\\\Lenovo\\\\OneDrive\\\\Documents\\\\GitHub\\\\Shiva\\\\main.py\\\", line 104, in main\\n    main_window = MainWindow(user_model, logger = logger)\\n  File \\\"C:\\\\Users\\\\Lenovo\\\\OneDrive\\\\Documents\\\\GitHub\\\\Shiva\\\\ui\\\\main_window.py\\\", line 55, in __init__\\n    self.create_menu_bar()\\n  File \\\"C:\\\\Users\\\\Lenovo\\\\OneDrive\\\\Documents\\\\GitHub\\\\Shiva\\\\ui\\\\main_window.py\\\", line 106, in create_menu_bar\\n    utilities_menu.addAction(self.create_action(\\\"View Audit Trail\\\", self.view_study_audit_trail))\\nAttributeError: 'MainWindow' object has no attribute 'view_study_audit_trail'\\n\"}\n",
      "{\"timestamp\": \"2024-12-28 18:45:06\", \"username\": \"UnknownUser\", \"logger_name\": \"__main__\", \"log_level\": \"INFO\", \"message\": \"Database connection closed.\"}\n",
      "\n"
     ]
    }
   ],
   "source": [
    "def display_logs(log_file='logs/audit_trail.log'):\n",
    "    try:\n",
    "        with open(log_file, 'r') as f:\n",
    "            logs = f.read()\n",
    "        print(logs)  # Print to console or use in your application\n",
    "    except FileNotFoundError:\n",
    "        print(f\"Log file {log_file} not found.\")\n",
    "\n",
    "display_logs()"
   ]
  },
  {
   "cell_type": "code",
   "execution_count": 1,
   "id": "d419fee5-4068-4762-8e18-29ef7ec306a8",
   "metadata": {},
   "outputs": [],
   "source": [
    "import numpy as np\n",
    "import json\n",
    "\n",
    "myDict = {\n",
    "    'Importer': {\n",
    "        'file1.png': None,\n",
    "        'file2.png': None,\n",
    "        # ...\n",
    "    },\n",
    "    'CellposeAnalyzer': {\n",
    "        'file1.png': None,\n",
    "        'file2.png': np.array([1,2]),  # Image data\n",
    "        # ...\n",
    "    },\n",
    "    'Audit_Trail': (\n",
    "        [\n",
    "            ['2024-12-28 18:44:58', 'UnknownUser', 'Running in standard mode'],\n",
    "            # ...\n",
    "        ],\n",
    "        ['Timestamp', 'Username', 'Action']  # Column headers\n",
    "    )\n",
    "}\n",
    "from models.user_model import UserModel\n",
    "\n",
    "us = UserModel()\n",
    "us.user='jmp637'\n",
    "\n",
    "from services.DataSigner import DataSigner\n",
    "from services.SecurityService import SecurityService\n",
    "\n",
    "\n",
    "ds = DataSigner(us)"
   ]
  },
  {
   "cell_type": "code",
   "execution_count": 2,
   "id": "572ad0db-c9b2-46d1-820e-d59cf97ae636",
   "metadata": {},
   "outputs": [],
   "source": [
    "\n",
    "    \n",
    "filtered_results=SecurityService.serialize_dict(myDict)"
   ]
  },
  {
   "cell_type": "code",
   "execution_count": 3,
   "id": "6de42fe3-44c0-4e90-aaac-770c18f9f980",
   "metadata": {},
   "outputs": [
    {
     "data": {
      "text/plain": [
       "{'Importer': {'file1.png': None, 'file2.png': None},\n",
       " 'CellposeAnalyzer': {'file1.png': None, 'file2.png': [1, 2]},\n",
       " 'Audit_Trail': ([['2024-12-28 18:44:58',\n",
       "    'UnknownUser',\n",
       "    'Running in standard mode']],\n",
       "  ['Timestamp', 'Username', 'Action'])}"
      ]
     },
     "execution_count": 3,
     "metadata": {},
     "output_type": "execute_result"
    }
   ],
   "source": [
    "filtered_results"
   ]
  },
  {
   "cell_type": "code",
   "execution_count": 10,
   "id": "8ef55115-3a66-43ab-b9c6-c767993c4fc4",
   "metadata": {},
   "outputs": [
    {
     "name": "stderr",
     "output_type": "stream",
     "text": [
      "User 'None' does not exist.\n"
     ]
    }
   ],
   "source": [
    "from models.user_model import UserModel\n",
    "us = UserModel()\n",
    "us.user='jmp637'\n",
    "us.get_user_credentials()\n",
    "\n"
   ]
  },
  {
   "cell_type": "code",
   "execution_count": 6,
   "id": "b13679f4-6a3f-4c96-b0f9-517084de1684",
   "metadata": {},
   "outputs": [
    {
     "name": "stderr",
     "output_type": "stream",
     "text": [
      "User 'None' does not exist.\n",
      "No credentials found for username: None\n",
      "Failed to sign results: An error occurred during encryption.\n"
     ]
    },
    {
     "name": "stdout",
     "output_type": "stream",
     "text": [
      "None\n",
      "{'Importer': {'file1.png': None, 'file2.png': None}, 'CellposeAnalyzer': {'file1.png': None, 'file2.png': [1, 2]}, 'Audit_Trail': ([['2024-12-28 18:44:58', 'UnknownUser', 'Running in standard mode']], ['Timestamp', 'Username', 'Action'])}\n",
      "64def534186a487543c4689893224792b648be5bb7c4f5a0aa6499da2a067137\n"
     ]
    },
    {
     "ename": "ValueError",
     "evalue": "Signing failed. Please check your inputs.",
     "output_type": "error",
     "traceback": [
      "\u001b[1;31m---------------------------------------------------------------------------\u001b[0m",
      "\u001b[1;31mAttributeError\u001b[0m                            Traceback (most recent call last)",
      "File \u001b[1;32m~\\OneDrive\\Documents\\GitHub\\Shiva\\services\\SecurityService.py:89\u001b[0m, in \u001b[0;36mSecurityService.sign_hash\u001b[1;34m(hash_value, private_key)\u001b[0m\n\u001b[0;32m     88\u001b[0m \u001b[38;5;28;01mtry\u001b[39;00m:\n\u001b[1;32m---> 89\u001b[0m     \u001b[38;5;28;01mreturn\u001b[39;00m \u001b[43mprivate_key\u001b[49m\u001b[38;5;241;43m.\u001b[39;49m\u001b[43msign\u001b[49m(\n\u001b[0;32m     90\u001b[0m         hash_value\u001b[38;5;241m.\u001b[39mencode(\u001b[38;5;124m'\u001b[39m\u001b[38;5;124mutf-8\u001b[39m\u001b[38;5;124m'\u001b[39m),\n\u001b[0;32m     91\u001b[0m         padding\u001b[38;5;241m.\u001b[39mPSS(\n\u001b[0;32m     92\u001b[0m             mgf\u001b[38;5;241m=\u001b[39mpadding\u001b[38;5;241m.\u001b[39mMGF1(hashes\u001b[38;5;241m.\u001b[39mSHA256()),\n\u001b[0;32m     93\u001b[0m             salt_length\u001b[38;5;241m=\u001b[39mpadding\u001b[38;5;241m.\u001b[39mPSS\u001b[38;5;241m.\u001b[39mMAX_LENGTH\n\u001b[0;32m     94\u001b[0m         ),\n\u001b[0;32m     95\u001b[0m         hashes\u001b[38;5;241m.\u001b[39mSHA256()\n\u001b[0;32m     96\u001b[0m     )\n\u001b[0;32m     97\u001b[0m \u001b[38;5;28;01mexcept\u001b[39;00m \u001b[38;5;167;01mException\u001b[39;00m \u001b[38;5;28;01mas\u001b[39;00m e:\n",
      "\u001b[1;31mAttributeError\u001b[0m: 'NoneType' object has no attribute 'sign'",
      "\nDuring handling of the above exception, another exception occurred:\n",
      "\u001b[1;31mValueError\u001b[0m                                Traceback (most recent call last)",
      "File \u001b[1;32m~\\OneDrive\\Documents\\GitHub\\Shiva\\services\\DataSigner.py:62\u001b[0m, in \u001b[0;36mDataSigner.sign_results\u001b[1;34m(self, username, password, comments, data)\u001b[0m\n\u001b[0;32m     60\u001b[0m \u001b[38;5;28mprint\u001b[39m(data_hash)\n\u001b[1;32m---> 62\u001b[0m signature \u001b[38;5;241m=\u001b[39m \u001b[43mSecurityService\u001b[49m\u001b[38;5;241;43m.\u001b[39;49m\u001b[43msign_hash\u001b[49m\u001b[43m(\u001b[49m\u001b[43mdata_hash\u001b[49m\u001b[43m,\u001b[49m\u001b[43m \u001b[49m\u001b[43mencrypted_key\u001b[49m\u001b[43m)\u001b[49m\n\u001b[0;32m     63\u001b[0m \u001b[38;5;28mprint\u001b[39m(signature)\n",
      "File \u001b[1;32m~\\OneDrive\\Documents\\GitHub\\Shiva\\services\\SecurityService.py:98\u001b[0m, in \u001b[0;36mSecurityService.sign_hash\u001b[1;34m(hash_value, private_key)\u001b[0m\n\u001b[0;32m     97\u001b[0m \u001b[38;5;28;01mexcept\u001b[39;00m \u001b[38;5;167;01mException\u001b[39;00m \u001b[38;5;28;01mas\u001b[39;00m e:\n\u001b[1;32m---> 98\u001b[0m     \u001b[38;5;28;01mraise\u001b[39;00m \u001b[38;5;167;01mValueError\u001b[39;00m(\u001b[38;5;124m\"\u001b[39m\u001b[38;5;124mAn error occurred during encryption.\u001b[39m\u001b[38;5;124m\"\u001b[39m)\n",
      "\u001b[1;31mValueError\u001b[0m: An error occurred during encryption.",
      "\nDuring handling of the above exception, another exception occurred:\n",
      "\u001b[1;31mValueError\u001b[0m                                Traceback (most recent call last)",
      "Cell \u001b[1;32mIn[6], line 3\u001b[0m\n\u001b[0;32m      1\u001b[0m \u001b[38;5;28;01mimport\u001b[39;00m \u001b[38;5;21;01mjson\u001b[39;00m\n\u001b[1;32m----> 3\u001b[0m \u001b[43mds\u001b[49m\u001b[38;5;241;43m.\u001b[39;49m\u001b[43msign_results\u001b[49m\u001b[43m(\u001b[49m\u001b[43musername\u001b[49m\u001b[38;5;241;43m=\u001b[39;49m\u001b[43m \u001b[49m\u001b[38;5;124;43m'\u001b[39;49m\u001b[38;5;124;43mjmp637\u001b[39;49m\u001b[38;5;124;43m'\u001b[39;49m\u001b[43m,\u001b[49m\u001b[43m \u001b[49m\u001b[43mpassword\u001b[49m\u001b[38;5;241;43m=\u001b[39;49m\u001b[43m \u001b[49m\u001b[38;5;124;43m'\u001b[39;49m\u001b[38;5;124;43mBarcelona123\u001b[39;49m\u001b[38;5;124;43m'\u001b[39;49m\u001b[43m,\u001b[49m\u001b[43m \u001b[49m\u001b[43mcomments\u001b[49m\u001b[38;5;241;43m=\u001b[39;49m\u001b[43m \u001b[49m\u001b[38;5;124;43m\"\u001b[39;49m\u001b[38;5;124;43mBanana\u001b[39;49m\u001b[38;5;124;43m\"\u001b[39;49m\u001b[43m,\u001b[49m\u001b[43m \u001b[49m\u001b[43mdata\u001b[49m\u001b[38;5;241;43m=\u001b[39;49m\u001b[43mmyDict\u001b[49m\u001b[43m)\u001b[49m\n",
      "File \u001b[1;32m~\\OneDrive\\Documents\\GitHub\\Shiva\\services\\DataSigner.py:77\u001b[0m, in \u001b[0;36mDataSigner.sign_results\u001b[1;34m(self, username, password, comments, data)\u001b[0m\n\u001b[0;32m     75\u001b[0m \u001b[38;5;28;01mexcept\u001b[39;00m \u001b[38;5;167;01mException\u001b[39;00m \u001b[38;5;28;01mas\u001b[39;00m e:\n\u001b[0;32m     76\u001b[0m     logger\u001b[38;5;241m.\u001b[39merror(\u001b[38;5;124mf\u001b[39m\u001b[38;5;124m\"\u001b[39m\u001b[38;5;124mFailed to sign results: \u001b[39m\u001b[38;5;132;01m{\u001b[39;00me\u001b[38;5;132;01m}\u001b[39;00m\u001b[38;5;124m\"\u001b[39m)\n\u001b[1;32m---> 77\u001b[0m     \u001b[38;5;28;01mraise\u001b[39;00m \u001b[38;5;167;01mValueError\u001b[39;00m(\u001b[38;5;124m\"\u001b[39m\u001b[38;5;124mSigning failed. Please check your inputs.\u001b[39m\u001b[38;5;124m\"\u001b[39m)\n",
      "\u001b[1;31mValueError\u001b[0m: Signing failed. Please check your inputs."
     ]
    }
   ],
   "source": [
    "import json\n",
    "SecurityService.hash_data(filtered_results)\n",
    "ds.sign_results(username= 'jmp637', password= 'Barcelona123', comments= \"Banana\", data=myDict)"
   ]
  },
  {
   "cell_type": "code",
   "execution_count": null,
   "id": "98f29199-0035-4897-bc74-aa3969e6eb02",
   "metadata": {},
   "outputs": [],
   "source": []
  }
 ],
 "metadata": {
  "kernelspec": {
   "display_name": "Python (deep_learning)",
   "language": "python",
   "name": "deep_learning"
  },
  "language_info": {
   "codemirror_mode": {
    "name": "ipython",
    "version": 3
   },
   "file_extension": ".py",
   "mimetype": "text/x-python",
   "name": "python",
   "nbconvert_exporter": "python",
   "pygments_lexer": "ipython3",
   "version": "3.9.20"
  }
 },
 "nbformat": 4,
 "nbformat_minor": 5
}
