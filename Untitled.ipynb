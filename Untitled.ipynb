{
 "cells": [
  {
   "cell_type": "code",
   "execution_count": 4,
   "id": "9a113ed1-0332-4ecc-848b-eedfd9232592",
   "metadata": {
    "scrolled": true
   },
   "outputs": [],
   "source": [
    "import os\n",
    "\n",
    "# Define the root directory and list all files\n",
    "root = 'C:/Users/Lenovo/OneDrive/Documents/GitHub/Synthetic Images/emps-main/images/'\n",
    "files = {root + x:root + x for x in os.listdir(root) if os.path.isfile(root + x)}  # Ensure only files are included\n"
   ]
  },
  {
   "cell_type": "code",
   "execution_count": 1,
   "id": "e8d6cc55-dd2e-4da9-aa97-e7807497ade6",
   "metadata": {},
   "outputs": [
    {
     "name": "stderr",
     "output_type": "stream",
     "text": [
      "C:\\Users\\Lenovo\\anaconda3\\envs\\deep_learning\\lib\\site-packages\\cellpose\\resnet_torch.py:276: FutureWarning: You are using `torch.load` with `weights_only=False` (the current default value), which uses the default pickle module implicitly. It is possible to construct malicious pickle data which will execute arbitrary code during unpickling (See https://github.com/pytorch/pytorch/blob/main/SECURITY.md#untrusted-models for more details). In a future release, the default value for `weights_only` will be flipped to `True`. This limits the functions that could be executed during unpickling. Arbitrary objects will no longer be allowed to be loaded via this mode unless they are explicitly allowlisted by the user via `torch.serialization.add_safe_globals`. We recommend you start setting `weights_only=True` for any use case where you don't have full control of the loaded file. Please open an issue on GitHub for any issues related to this experimental feature.\n",
      "  state_dict = torch.load(filename, map_location=device)\n",
      "C:\\Users\\Lenovo\\anaconda3\\envs\\deep_learning\\lib\\site-packages\\cellpose\\resnet_torch.py:280: FutureWarning: You are using `torch.load` with `weights_only=False` (the current default value), which uses the default pickle module implicitly. It is possible to construct malicious pickle data which will execute arbitrary code during unpickling (See https://github.com/pytorch/pytorch/blob/main/SECURITY.md#untrusted-models for more details). In a future release, the default value for `weights_only` will be flipped to `True`. This limits the functions that could be executed during unpickling. Arbitrary objects will no longer be allowed to be loaded via this mode unless they are explicitly allowlisted by the user via `torch.serialization.add_safe_globals`. We recommend you start setting `weights_only=True` for any use case where you don't have full control of the loaded file. Please open an issue on GitHub for any issues related to this experimental feature.\n",
      "  state_dict = torch.load(filename, map_location=torch.device(\"cpu\"))\n"
     ]
    },
    {
     "ename": "SystemExit",
     "evalue": "0",
     "output_type": "error",
     "traceback": [
      "An exception has occurred, use %tb to see the full traceback.\n",
      "\u001b[1;31mSystemExit\u001b[0m\u001b[1;31m:\u001b[0m 0\n"
     ]
    },
    {
     "name": "stderr",
     "output_type": "stream",
     "text": [
      "C:\\Users\\Lenovo\\anaconda3\\envs\\deep_learning\\lib\\site-packages\\IPython\\core\\interactiveshell.py:3558: UserWarning: To exit: use 'exit', 'quit', or Ctrl-D.\n",
      "  warn(\"To exit: use 'exit', 'quit', or Ctrl-D.\", stacklevel=1)\n"
     ]
    }
   ],
   "source": [
    "from PyQt5.QtWidgets import QMessageBox, QApplication\n",
    "from matplotlib.figure import Figure\n",
    "from matplotlib.backends.backend_qt5agg import FigureCanvasQTAgg as FigureCanvas\n",
    "from cellpose import io, models, plot\n",
    "import os\n",
    "from dialogs.ImageViewer import ImageViewer\n",
    "\n",
    "from PyQt5.QtWidgets import QMessageBox, QApplication\n",
    "from matplotlib.figure import Figure\n",
    "from matplotlib.backends.backend_qt5agg import FigureCanvasQTAgg as FigureCanvas\n",
    "from cellpose import io, models, plot\n",
    "import os\n",
    "import sys\n",
    "from PyQt5.QtWidgets import (\n",
    "    QApplication, QMainWindow, QVBoxLayout, QHBoxLayout, QPushButton, QWidget,\n",
    "    QLabel, QLineEdit, QComboBox, QMessageBox, QFileDialog, QProgressBar\n",
    ")\n",
    "from PyQt5.QtCore import Qt\n",
    "from matplotlib.figure import Figure\n",
    "from matplotlib.backends.backend_qt5agg import FigureCanvasQTAgg as FigureCanvas\n",
    "from cellpose import io\n",
    "import os\n",
    "\n",
    "\n",
    "class ImageViewer(QMainWindow):\n",
    "    def __init__(self, image_paths=None, index=0):\n",
    "        super().__init__()\n",
    "        self.image_paths = image_paths #if image_paths else []\n",
    "        self.current_index = index\n",
    "\n",
    "        # Initialize UI\n",
    "        self.setWindowTitle(\"Image Viewer\")\n",
    "        self.resize(600, 450)\n",
    "\n",
    "        # Image display\n",
    "        self.figure = Figure()\n",
    "        self.canvas = FigureCanvas(self.figure)\n",
    "\n",
    "\n",
    "\n",
    "        # Main layout\n",
    "        central_widget = QWidget()\n",
    "        self.setCentralWidget(central_widget)\n",
    "        main_layout = QVBoxLayout(central_widget)\n",
    "        main_layout.addWidget(self.canvas, alignment=Qt.AlignCenter)\n",
    "      #  main_layout.addLayout(controls_layout)\n",
    "\n",
    "        # Display the first image if available\n",
    "        if self.image_paths:\n",
    "            self.update_image()\n",
    "\n",
    "    def set_current_index(self, index):\n",
    "        \"\"\"Slot to update the current index and refresh the image.\"\"\"\n",
    "        if 0 <= index < len(self.image_paths):\n",
    "            self.current_index = index\n",
    "            self.update_image()\n",
    "        else:\n",
    "            QMessageBox.warning(self, \"Invalid Index\", \"Index out of range.\")\n",
    "\n",
    "    def update_image(self):\n",
    "        \"\"\"Display the current image.\"\"\"\n",
    "        if not self.image_paths:\n",
    "            QMessageBox.information(self, \"No Images\", \"No images to display.\")\n",
    "            return\n",
    "    \n",
    "        # Get the current filename and check if it exists in the dictionary\n",
    "        filenames = list(self.image_paths.keys())\n",
    "        if self.current_index < 0 or self.current_index >= len(filenames):\n",
    "            QMessageBox.information(self, \"No Images\", \"Invalid image index.\")\n",
    "            return\n",
    "    \n",
    "        current_filename = filenames[self.current_index]\n",
    "    \n",
    "        # Load the image if not already loaded\n",
    "        if self.image_paths[current_filename] is None:\n",
    "            try:\n",
    "                self.image_paths[current_filename] = self.read_image(current_filename)\n",
    "            except Exception as e:\n",
    "                QMessageBox.critical(self, \"Error\", f\"Failed to load image '{current_filename}': {e}\")\n",
    "                return\n",
    "\n",
    "        return self.image_paths[current_filename]\n",
    "    \n",
    "    def display_image(self, title=\"Image\"):\n",
    "        \"\"\"Display the provided image.\"\"\"\n",
    "\n",
    "        img = self.update_image()\n",
    "        \n",
    "        if img is None:\n",
    "            filenames = list(self.image_paths.keys())\n",
    "            if self.current_index < 0 or self.current_index >= len(filenames):\n",
    "                QMessageBox.information(self, \"No Images\", \"Invalid image index.\")\n",
    "                return\n",
    "            img = self.load_image(filenames[self.current_index])\n",
    "\n",
    "        if img is not None:\n",
    "            self.setWindowTitle(title)\n",
    "            self.figure.clear()\n",
    "            ax = self.figure.add_subplot(111)\n",
    "            ax.imshow(img, cmap='gray')\n",
    "            ax.axis(\"off\")\n",
    "            self.canvas.draw()\n",
    "        else:\n",
    "            QMessageBox.warning(self, \"Display Error\", \"The image could not be displayed.\")\n",
    "\n",
    "\n",
    "    def read_image(self, image_path):\n",
    "        \"\"\"Read and validate an image.\"\"\"\n",
    "        try:\n",
    "            return io.imread(image_path)\n",
    "        except Exception as e:\n",
    "            QMessageBox.critical(self, \"Error\", f\"Failed to load image: {e}\")\n",
    "            return None\n",
    "\n",
    "class CellposeAnalyzer(ImageViewer):\n",
    "    def __init__(self, image_paths=None, index=0, model_type=\"cyto\", diameter=25, gpu=True):\n",
    "        \"\"\"\n",
    "        Subclass of ImageViewer that integrates Cellpose analysis.\n",
    "        \"\"\"\n",
    "        # Initialize the parent class (ImageViewer)\n",
    "        super().__init__(image_paths=image_paths, index=index)\n",
    "\n",
    "        # Additional attributes specific to CellposeAnalyzer\n",
    "        self.model_type = model_type\n",
    "        self.diameter = diameter\n",
    "        self.gpu = gpu\n",
    "        self.segmented_images = {}\n",
    "\n",
    "        # Initialize the Cellpose model\n",
    "        self.model = models.CellposeModel(model_type=model_type, gpu=gpu)\n",
    "\n",
    "        # Process and display the current image\n",
    "        self.process_and_display()\n",
    "\n",
    "    def process_and_display(self):\n",
    "        \"\"\"Process the current image using Cellpose and display the segmentation result.\"\"\"\n",
    "        if not self.image_paths:\n",
    "            QMessageBox.information(self, \"No Images\", \"No images to process.\")\n",
    "            return\n",
    "\n",
    "        filenames = list(self.image_paths.keys())\n",
    "        current_filename = filenames[self.current_index]\n",
    "\n",
    "        # Load the image if not already loaded\n",
    "        if self.image_paths[current_filename] is None:\n",
    "            try:\n",
    "                img = io.imread(current_filename)\n",
    "                self.image_paths[current_filename] = img\n",
    "            except Exception as e:\n",
    "                QMessageBox.critical(self, \"Error\", f\"Failed to load image: {e}\")\n",
    "                return\n",
    "\n",
    "        # Process the image using Cellpose\n",
    "        img = self.image_paths[current_filename]\n",
    "        try:\n",
    "            masks, flows, styles = models.CellposeModel(model_type='cyto3').eval(img,\n",
    "                            diameter=25, channels=[1,2])\n",
    "            mask_RGB = plot.mask_overlay(img, masks)\n",
    "            self.image_paths[current_filename] = mask_RGB\n",
    "        except Exception as e:\n",
    "            QMessageBox.critical(self, \"Error\", f\"Failed to process image: {e}\")\n",
    "            return\n",
    "\n",
    "        # Display the segmented image\n",
    "        self.display_image(title=\"Segmented Image\")\n",
    "\n",
    "\n",
    "\n",
    "if __name__ == \"__main__\":\n",
    "    app = QApplication(sys.argv)\n",
    "\n",
    "    # Define the root directory and list all files\n",
    "    root = 'C:/Users/Lenovo/OneDrive/Documents/GitHub/Synthetic Images/emps-main/images/'\n",
    "    files = {root + x: None for x in os.listdir(root) if os.path.isfile(root + x)}\n",
    "\n",
    "    # Instantiate the CellposeAnalyzer with the files\n",
    "    analyzer = CellposeAnalyzer(image_paths=files)\n",
    "\n",
    "    # Show the viewer\n",
    "    analyzer.show()\n",
    "    sys.exit(app.exec_())\n"
   ]
  },
  {
   "cell_type": "code",
   "execution_count": 3,
   "id": "8706cbc6-5b8e-42f2-9629-49a829051f9b",
   "metadata": {},
   "outputs": [
    {
     "ename": "SystemExit",
     "evalue": "0",
     "output_type": "error",
     "traceback": [
      "\u001b[1;31m---------------------------------------------------------------------------\u001b[0m",
      "\u001b[1;31mSystemExit\u001b[0m                                Traceback (most recent call last)",
      "Cell \u001b[1;32mIn[2], line 183\u001b[0m\n\u001b[0;32m    181\u001b[0m \u001b[38;5;66;03m# Show the viewer\u001b[39;00m\n\u001b[0;32m    182\u001b[0m analyzer\u001b[38;5;241m.\u001b[39mshow()\n\u001b[1;32m--> 183\u001b[0m \u001b[43msys\u001b[49m\u001b[38;5;241;43m.\u001b[39;49m\u001b[43mexit\u001b[49m\u001b[43m(\u001b[49m\u001b[43mapp\u001b[49m\u001b[38;5;241;43m.\u001b[39;49m\u001b[43mexec_\u001b[49m\u001b[43m(\u001b[49m\u001b[43m)\u001b[49m\u001b[43m)\u001b[49m\n",
      "\u001b[1;31mSystemExit\u001b[0m: 0"
     ]
    }
   ],
   "source": [
    "%tb"
   ]
  },
  {
   "cell_type": "code",
   "execution_count": 3,
   "id": "d419fee5-4068-4762-8e18-29ef7ec306a8",
   "metadata": {},
   "outputs": [
    {
     "name": "stdout",
     "output_type": "stream",
     "text": [
      "C:/Users/Lenovo/OneDrive/Documents/GitHub/Synthetic Images/emps-main/images/00655d9628.png\n"
     ]
    },
    {
     "name": "stderr",
     "output_type": "stream",
     "text": [
      "C:\\Users\\Lenovo\\anaconda3\\envs\\deep_learning\\lib\\site-packages\\cellpose\\resnet_torch.py:280: FutureWarning: You are using `torch.load` with `weights_only=False` (the current default value), which uses the default pickle module implicitly. It is possible to construct malicious pickle data which will execute arbitrary code during unpickling (See https://github.com/pytorch/pytorch/blob/main/SECURITY.md#untrusted-models for more details). In a future release, the default value for `weights_only` will be flipped to `True`. This limits the functions that could be executed during unpickling. Arbitrary objects will no longer be allowed to be loaded via this mode unless they are explicitly allowlisted by the user via `torch.serialization.add_safe_globals`. We recommend you start setting `weights_only=True` for any use case where you don't have full control of the loaded file. Please open an issue on GitHub for any issues related to this experimental feature.\n",
      "  state_dict = torch.load(filename, map_location=torch.device(\"cpu\"))\n"
     ]
    }
   ],
   "source": [
    "from cellpose import io, models\n",
    "import os\n",
    "\n",
    "root = \"C:/Users/Lenovo/OneDrive/Documents/GitHub/Synthetic Images/emps-main/images/\"\n",
    "files = [root + x for x in os.listdir(root)]\n",
    "\n",
    "\n",
    "print(files[0])\n",
    "img = io.imread(files[0])\n",
    "\n",
    "\n",
    "\n",
    "\n",
    "masks, flows, styles = models.CellposeModel(model_type='tissuenet_cp3').eval(img,\n",
    "                            diameter=25, channels=[1,2])"
   ]
  },
  {
   "cell_type": "code",
   "execution_count": 5,
   "id": "5249a141-b053-417a-a7b6-c14f85d382a2",
   "metadata": {},
   "outputs": [
    {
     "data": {
      "text/plain": [
       "<matplotlib.image.AxesImage at 0x1e33abda4c0>"
      ]
     },
     "execution_count": 5,
     "metadata": {},
     "output_type": "execute_result"
    },
    {
     "data": {
      "image/png": "[encoded data removed]",
      "text/plain": [
       "<Figure size 640x480 with 1 Axes>"
      ]
     },
     "metadata": {},
     "output_type": "display_data"
    }
   ],
   "source": [
    "import numpy as np\n",
    "from cellpose import plot, utils, io\n",
    "import matplotlib.pyplot as plt\n",
    "\n",
    "plt.imshow(masks)\n"
   ]
  },
  {
   "cell_type": "code",
   "execution_count": null,
   "id": "b13679f4-6a3f-4c96-b0f9-517084de1684",
   "metadata": {},
   "outputs": [],
   "source": []
  }
 ],
 "metadata": {
  "kernelspec": {
   "display_name": "Python (deep_learning)",
   "language": "python",
   "name": "deep_learning"
  },
  "language_info": {
   "codemirror_mode": {
    "name": "ipython",
    "version": 3
   },
   "file_extension": ".py",
   "mimetype": "text/x-python",
   "name": "python",
   "nbconvert_exporter": "python",
   "pygments_lexer": "ipython3",
   "version": "3.9.20"
  }
 },
 "nbformat": 4,
 "nbformat_minor": 5
}
