{
 "cells": [
  {
   "cell_type": "code",
   "execution_count": 1,
   "id": "643787eb-7453-437d-a74b-1863eceb5187",
   "metadata": {},
   "outputs": [
    {
     "name": "stdout",
     "output_type": "stream",
     "text": [
      "{'0a55e7c93f.png': 'C:/Users/Lenovo/OneDrive/Documents/Images\\\\0a55e7c93f.png', '15a3ba1c51.png': 'C:/Users/Lenovo/OneDrive/Documents/Images\\\\15a3ba1c51.png', '207bb15702.png': 'C:/Users/Lenovo/OneDrive/Documents/Images\\\\207bb15702.png', '226dc58f03.png': 'C:/Users/Lenovo/OneDrive/Documents/Images\\\\226dc58f03.png', '2556313831.png': 'C:/Users/Lenovo/OneDrive/Documents/Images\\\\2556313831.png', '2daa27a6df.png': 'C:/Users/Lenovo/OneDrive/Documents/Images\\\\2daa27a6df.png', '39b0dc1f52.png': 'C:/Users/Lenovo/OneDrive/Documents/Images\\\\39b0dc1f52.png', '47286679c2.png': 'C:/Users/Lenovo/OneDrive/Documents/Images\\\\47286679c2.png', '7701ac03c1.png': 'C:/Users/Lenovo/OneDrive/Documents/Images\\\\7701ac03c1.png', '7fabcfe23f.png': 'C:/Users/Lenovo/OneDrive/Documents/Images\\\\7fabcfe23f.png', '8cee575b39.png': 'C:/Users/Lenovo/OneDrive/Documents/Images\\\\8cee575b39.png', '9c29ca7edf.png': 'C:/Users/Lenovo/OneDrive/Documents/Images\\\\9c29ca7edf.png', 'a59bcf3f13.png': 'C:/Users/Lenovo/OneDrive/Documents/Images\\\\a59bcf3f13.png', 'a68915823c.png': 'C:/Users/Lenovo/OneDrive/Documents/Images\\\\a68915823c.png', 'a9a628444d.png': 'C:/Users/Lenovo/OneDrive/Documents/Images\\\\a9a628444d.png', 'af124a45d9.png': 'C:/Users/Lenovo/OneDrive/Documents/Images\\\\af124a45d9.png', 'b78f5fdc22.png': 'C:/Users/Lenovo/OneDrive/Documents/Images\\\\b78f5fdc22.png', 'b996f341bd.png': 'C:/Users/Lenovo/OneDrive/Documents/Images\\\\b996f341bd.png', 'c5c0825297.png': 'C:/Users/Lenovo/OneDrive/Documents/Images\\\\c5c0825297.png', 'cd22803960.png': 'C:/Users/Lenovo/OneDrive/Documents/Images\\\\cd22803960.png', 'ce2f96aae1.png': 'C:/Users/Lenovo/OneDrive/Documents/Images\\\\ce2f96aae1.png', 'ce41e4e56d.png': 'C:/Users/Lenovo/OneDrive/Documents/Images\\\\ce41e4e56d.png', 'dc25ff5266.png': 'C:/Users/Lenovo/OneDrive/Documents/Images\\\\dc25ff5266.png', 'e49ed62b0b.png': 'C:/Users/Lenovo/OneDrive/Documents/Images\\\\e49ed62b0b.png', 'e83de4878a.png': 'C:/Users/Lenovo/OneDrive/Documents/Images\\\\e83de4878a.png', 'f5235de51f.png': 'C:/Users/Lenovo/OneDrive/Documents/Images\\\\f5235de51f.png'}\n"
     ]
    },
    {
     "name": "stderr",
     "output_type": "stream",
     "text": [
      "C:\\Users\\Lenovo\\anaconda3\\envs\\deep_learning\\lib\\site-packages\\cellpose\\resnet_torch.py:280: FutureWarning: You are using `torch.load` with `weights_only=False` (the current default value), which uses the default pickle module implicitly. It is possible to construct malicious pickle data which will execute arbitrary code during unpickling (See https://github.com/pytorch/pytorch/blob/main/SECURITY.md#untrusted-models for more details). In a future release, the default value for `weights_only` will be flipped to `True`. This limits the functions that could be executed during unpickling. Arbitrary objects will no longer be allowed to be loaded via this mode unless they are explicitly allowlisted by the user via `torch.serialization.add_safe_globals`. We recommend you start setting `weights_only=True` for any use case where you don't have full control of the loaded file. Please open an issue on GitHub for any issues related to this experimental feature.\n",
      "  state_dict = torch.load(filename, map_location=torch.device(\"cpu\"))\n",
      "C:\\Users\\Lenovo\\anaconda3\\envs\\deep_learning\\lib\\site-packages\\cellpose\\resnet_torch.py:276: FutureWarning: You are using `torch.load` with `weights_only=False` (the current default value), which uses the default pickle module implicitly. It is possible to construct malicious pickle data which will execute arbitrary code during unpickling (See https://github.com/pytorch/pytorch/blob/main/SECURITY.md#untrusted-models for more details). In a future release, the default value for `weights_only` will be flipped to `True`. This limits the functions that could be executed during unpickling. Arbitrary objects will no longer be allowed to be loaded via this mode unless they are explicitly allowlisted by the user via `torch.serialization.add_safe_globals`. We recommend you start setting `weights_only=True` for any use case where you don't have full control of the loaded file. Please open an issue on GitHub for any issues related to this experimental feature.\n",
      "  state_dict = torch.load(filename, map_location=device)\n"
     ]
    },
    {
     "name": "stdout",
     "output_type": "stream",
     "text": [
      "{'instance': <Modules.CellposeAnalyzer.CellposeAnalyzer object at 0x0000023A740FE1F0>}\n"
     ]
    },
    {
     "ename": "SystemExit",
     "evalue": "0",
     "output_type": "error",
     "traceback": [
      "An exception has occurred, use %tb to see the full traceback.\n",
      "\u001b[1;31mSystemExit\u001b[0m\u001b[1;31m:\u001b[0m 0\n"
     ]
    },
    {
     "name": "stderr",
     "output_type": "stream",
     "text": [
      "C:\\Users\\Lenovo\\anaconda3\\envs\\deep_learning\\lib\\site-packages\\IPython\\core\\interactiveshell.py:3558: UserWarning: To exit: use 'exit', 'quit', or Ctrl-D.\n",
      "  warn(\"To exit: use 'exit', 'quit', or Ctrl-D.\", stacklevel=1)\n"
     ]
    }
   ],
   "source": [
    "import os\n",
    "from dialogs.ControllerDialog import ControllerDialog\n",
    "from Modules.CellposeAnalyzer import CellposeAnalyzer\n",
    "from dialogs.ImageViewer import ImageViewer\n",
    "\n",
    "\n",
    "\n",
    "if __name__ == \"__main__\":\n",
    "    from PyQt5.QtWidgets import QApplication\n",
    "    import sys\n",
    "\n",
    "    app = QApplication(sys.argv)\n",
    "\n",
    "    directory = \"C:/Users/Lenovo/OneDrive/Documents/Images\"\n",
    "    files = os.listdir(directory)\n",
    "    \n",
    "    # Extract filenames only\n",
    "    filenames = [os.path.basename(file) for file in files]\n",
    "            \n",
    "    image_paths = {file: os.path.join(directory, file) for file in files}\n",
    "\n",
    "    print(image_paths)\n",
    "    analyzer = CellposeAnalyzer(image_paths=image_paths, diameter=30)\n",
    "\n",
    "    # Create and show the ControllerDialog\n",
    "    dialog = ControllerDialog(analyzer)\n",
    "    dialog.show()\n",
    "\n",
    "    sys.exit(app.exec_())\n"
   ]
  },
  {
   "cell_type": "code",
   "execution_count": 17,
   "id": "517eefa7-e14f-4d25-b889-9146e9004268",
   "metadata": {},
   "outputs": [
    {
     "name": "stdout",
     "output_type": "stream",
     "text": [
      "Unique parameters in CellposeAnalyzer: {'diameter'}\n"
     ]
    }
   ],
   "source": [
    "import inspect\n",
    "\n",
    "# Get the parameter names for CellposeAnalyzer's __init__ method\n",
    "cellpose_params = set(inspect.signature(CellposeAnalyzer.__init__).parameters.keys())\n",
    "\n",
    "# Get the parameter names for ImageViewer's __init__ method\n",
    "imageviewer_params = set(inspect.signature(ImageViewer.__init__).parameters.keys())\n",
    "\n",
    "# Find parameters unique to CellposeAnalyzer\n",
    "unique_params = cellpose_params - imageviewer_params\n",
    "\n",
    "print(\"Unique parameters in CellposeAnalyzer:\", unique_params)\n"
   ]
  },
  {
   "cell_type": "code",
   "execution_count": null,
   "id": "cc799d3a-1bc1-435e-8d98-1c33a0a58b4b",
   "metadata": {},
   "outputs": [],
   "source": [
    "# Get the parameters for the `__init__` of the parent class\n",
    "parent = ImageViewer.__bases__[0]\n",
    "parent_params = inspect.signature(parent.__init__).parameters if hasattr(parent, '__init__') else {}\n",
    "\n",
    "# Find parameters unique to the subclass\n",
    "unique_params = set(cls_params) - set(parent_params)\n",
    "return {param: cls_params[param] for param in unique_params}"
   ]
  }
 ],
 "metadata": {
  "kernelspec": {
   "display_name": "Python 3 (ipykernel)",
   "language": "python",
   "name": "python3"
  },
  "language_info": {
   "codemirror_mode": {
    "name": "ipython",
    "version": 3
   },
   "file_extension": ".py",
   "mimetype": "text/x-python",
   "name": "python",
   "nbconvert_exporter": "python",
   "pygments_lexer": "ipython3",
   "version": "3.9.20"
  }
 },
 "nbformat": 4,
 "nbformat_minor": 5
}
